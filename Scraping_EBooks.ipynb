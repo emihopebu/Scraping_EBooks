{
 "cells": [
  {
   "cell_type": "markdown",
   "metadata": {},
   "source": [
    "#### Step 1 - Imports"
   ]
  },
  {
   "cell_type": "code",
   "execution_count": 2,
   "metadata": {},
   "outputs": [],
   "source": [
    "import requests\n",
    "import pandas as pd"
   ]
  },
  {
   "cell_type": "markdown",
   "metadata": {},
   "source": [
    "#### Step 2 - Requests & CURL"
   ]
  },
  {
   "cell_type": "code",
   "execution_count": 3,
   "metadata": {},
   "outputs": [],
   "source": [
    "headers = {\n",
    "    'sec-ch-ua': '^\\\\^Chromium^\\\\^;v=^\\\\^94^\\\\^, ^\\\\^Google',\n",
    "    'Referer': 'https://www.ebooks.com/en-co/subjects/computers/',\n",
    "    'sec-ch-ua-mobile': '?1',\n",
    "    'User-Agent': 'Mozilla/5.0 (Linux; Android 6.0; Nexus 5 Build/MRA58N) AppleWebKit/537.36 (KHTML, like Gecko) Chrome/94.0.4606.61 Mobile Safari/537.36',\n",
    "    'sec-ch-ua-platform': '^\\\\^Android^\\\\^',\n",
    "    'Content-Type': 'application/json',\n",
    "}\n",
    "\n",
    "params = (\n",
    "    ('subjectId', '13'),\n",
    "    ('pageNumber', '1'),\n",
    "    ('countryCode', 'CO'),\n",
    ")\n",
    "\n",
    "response = requests.get('https://www.ebooks.com/api/search/subject/', headers=headers, params=params)\n",
    "\n",
    "#NB. Original query string below. It seems impossible to parse and\n",
    "#reproduce query strings 100% accurately so the one below is given\n",
    "#in case the reproduced version is not \"correct\".\n",
    "# response = requests.get('https://www.ebooks.com/api/search/subject/?subjectId=13&pageNumber=1&countryCode=CO', headers=headers)\n"
   ]
  },
  {
   "cell_type": "markdown",
   "metadata": {},
   "source": [
    "#### Step 3 - Check Status Code"
   ]
  },
  {
   "cell_type": "code",
   "execution_count": 4,
   "metadata": {},
   "outputs": [
    {
     "data": {
      "text/plain": [
       "<Response [200]>"
      ]
     },
     "execution_count": 4,
     "metadata": {},
     "output_type": "execute_result"
    }
   ],
   "source": [
    "response"
   ]
  },
  {
   "cell_type": "markdown",
   "metadata": {},
   "source": [
    "#### Step 4 - Create Json Object"
   ]
  },
  {
   "cell_type": "code",
   "execution_count": 5,
   "metadata": {},
   "outputs": [
    {
     "data": {
      "text/plain": [
       "{'pages': [{'number': '1',\n",
       "   'is_selected': True,\n",
       "   'show_mobile': True,\n",
       "   'show_tablet': True,\n",
       "   'search_url': '/en-co/subjects/computers/'},\n",
       "  {'number': '2',\n",
       "   'is_selected': False,\n",
       "   'show_mobile': True,\n",
       "   'show_tablet': True,\n",
       "   'search_url': '/en-co/subjects/computers/?pageNumber=2'},\n",
       "  {'number': '3',\n",
       "   'is_selected': False,\n",
       "   'show_mobile': True,\n",
       "   'show_tablet': True,\n",
       "   'search_url': '/en-co/subjects/computers/?pageNumber=3'},\n",
       "  {'number': '4',\n",
       "   'is_selected': False,\n",
       "   'show_mobile': True,\n",
       "   'show_tablet': True,\n",
       "   'search_url': '/en-co/subjects/computers/?pageNumber=4'},\n",
       "  {'number': '5',\n",
       "   'is_selected': False,\n",
       "   'show_mobile': True,\n",
       "   'show_tablet': True,\n",
       "   'search_url': '/en-co/subjects/computers/?pageNumber=5'},\n",
       "  {'number': '6',\n",
       "   'is_selected': False,\n",
       "   'show_mobile': False,\n",
       "   'show_tablet': True,\n",
       "   'search_url': '/en-co/subjects/computers/?pageNumber=6'},\n",
       "  {'number': '7',\n",
       "   'is_selected': False,\n",
       "   'show_mobile': False,\n",
       "   'show_tablet': True,\n",
       "   'search_url': '/en-co/subjects/computers/?pageNumber=7'},\n",
       "  {'number': '8',\n",
       "   'is_selected': False,\n",
       "   'show_mobile': False,\n",
       "   'show_tablet': True,\n",
       "   'search_url': '/en-co/subjects/computers/?pageNumber=8'},\n",
       "  {'number': '9',\n",
       "   'is_selected': False,\n",
       "   'show_mobile': False,\n",
       "   'show_tablet': False,\n",
       "   'search_url': '/en-co/subjects/computers/?pageNumber=9'}],\n",
       " 'previous_page': None,\n",
       " 'next_page': '/en-co/subjects/computers/?pageNumber=2',\n",
       " 'books': [{'id': 209755044,\n",
       "   'book_url': '/en-co/book/209755044/dark-data/david-j-hand/',\n",
       "   'image_url': 'https://image.ebooks.com/previews/209/209755/209755044/209755044-sml-1.jpg',\n",
       "   'image_alt_tag': 'Dark Data: Why What You Don&#x2019;t Know Matters',\n",
       "   'title': 'Dark Data',\n",
       "   'edition': '',\n",
       "   'subtitle': 'Why What You Don’t Know Matters',\n",
       "   'authors': [{'author_name': 'David J. Hand',\n",
       "     'author_url': '/en-co/author/david-j.-hand/165723/'}],\n",
       "   'num_authors': 1,\n",
       "   'series': ' Series',\n",
       "   'series_number': '',\n",
       "   'has_series': False,\n",
       "   'series_url': '',\n",
       "   'publisher': 'Princeton University Press',\n",
       "   'publication_year': '2020',\n",
       "   'price': 'US$27.25',\n",
       "   'desktop_short_description': 'A practical guide to making good decisions in a world of missing data   In the era of big data, it is easy to imagine that we have all the information we need to make good decisions. But in fact the data we have are never complete, and may be only the tip of the iceberg. Just as much of the universe is composed of dark matter, invisible to us but...',\n",
       "   'mobile_short_description': 'A practical guide to making good decisions in a world of missing data   In the era of big data, it...',\n",
       "   'is_preorder': False,\n",
       "   'is_available': True,\n",
       "   'preorder_url': '/account/preorder/?bookId=209755044',\n",
       "   'add_to_cart_url': '/cart/add/209755044/',\n",
       "   'currency_symbol': 'US$',\n",
       "   'price_number': 29.95},\n",
       "  {'id': 817871,\n",
       "   'book_url': '/en-co/book/817871/html-and-css/jon-duckett/',\n",
       "   'image_url': 'https://image.ebooks.com/previews/000/000817/000817871/000817871-sml-1.jpg',\n",
       "   'image_alt_tag': 'HTML and CSS: Design and Build Websites',\n",
       "   'title': 'HTML and CSS',\n",
       "   'edition': '',\n",
       "   'subtitle': 'Design and Build Websites',\n",
       "   'authors': [{'author_name': 'Jon Duckett',\n",
       "     'author_url': '/en-co/author/jon-duckett/50444/'}],\n",
       "   'num_authors': 1,\n",
       "   'series': ' Series',\n",
       "   'series_number': '',\n",
       "   'has_series': False,\n",
       "   'series_url': '',\n",
       "   'publisher': 'Wiley',\n",
       "   'publication_year': '2011',\n",
       "   'price': 'US$26.50',\n",
       "   'desktop_short_description': 'A full-color introduction to the basics of HTML and CSS!   Every day, more and more people want to learn some HTML and CSS. Joining the professional web designers and programmers are new audiences who need to know a little bit of code at work (update a content management system or e-commerce store) and those who want to make their personal blogs...',\n",
       "   'mobile_short_description': 'A full-color introduction to the basics of HTML and CSS!   Every day, more and more people want to...',\n",
       "   'is_preorder': False,\n",
       "   'is_available': True,\n",
       "   'preorder_url': '/account/preorder/?bookId=817871',\n",
       "   'add_to_cart_url': '/cart/add/817871/',\n",
       "   'currency_symbol': 'US$',\n",
       "   'price_number': 29.99},\n",
       "  {'id': 589081,\n",
       "   'book_url': '/en-co/book/589081/the-dragonfly-effect/jennifer-aaker/',\n",
       "   'image_url': 'https://image.ebooks.com/previews/000/000589/000589081/000589081-sml-1.jpg',\n",
       "   'image_alt_tag': 'The Dragonfly Effect: Quick, Effective, and Powerful Ways To Use Social Media to Drive Social Change',\n",
       "   'title': 'The Dragonfly Effect',\n",
       "   'edition': '',\n",
       "   'subtitle': 'Quick, Effective, and Powerful Ways To Use Social Media to Drive Social Change',\n",
       "   'authors': [{'author_name': 'Jennifer Aaker',\n",
       "     'author_url': '/en-co/author/jennifer-aaker/264487/'},\n",
       "    {'author_name': 'Andy Smith',\n",
       "     'author_url': '/en-co/author/andy-smith/36949/'}],\n",
       "   'num_authors': 5,\n",
       "   'series': ' Series',\n",
       "   'series_number': '',\n",
       "   'has_series': False,\n",
       "   'series_url': '',\n",
       "   'publisher': 'Wiley',\n",
       "   'publication_year': '2010',\n",
       "   'price': 'US$22.99',\n",
       "   'desktop_short_description': 'Proven strategies for harnessing the power of social media to drive social change   Many books teach the mechanics of using Facebook, Twitter, and YouTube to compete in business. But no book addresses how to harness the incredible power of social media to make a difference.  The Dragonfly Effect  shows you how to tap social media and consumer...',\n",
       "   'mobile_short_description': 'Proven strategies for harnessing the power of social media to drive social change   Many books teach...',\n",
       "   'is_preorder': False,\n",
       "   'is_available': True,\n",
       "   'preorder_url': '/account/preorder/?bookId=589081',\n",
       "   'add_to_cart_url': '/cart/add/589081/',\n",
       "   'currency_symbol': 'US$',\n",
       "   'price_number': 25.95},\n",
       "  {'id': 95922373,\n",
       "   'book_url': '/en-co/book/95922373/linux-basics-for-hackers/occupytheweb/',\n",
       "   'image_url': 'https://image.ebooks.com/previews/095/095922/095922373/095922373-sml-1.jpg',\n",
       "   'image_alt_tag': 'Linux Basics for Hackers: Getting Started with Networking, Scripting, and Security in Kali',\n",
       "   'title': 'Linux Basics for Hackers',\n",
       "   'edition': '',\n",
       "   'subtitle': 'Getting Started with Networking, Scripting, and Security in Kali',\n",
       "   'authors': [{'author_name': 'OccupyTheWeb',\n",
       "     'author_url': '/en-co/author/occupytheweb/94218147/'}],\n",
       "   'num_authors': 1,\n",
       "   'series': ' Series',\n",
       "   'series_number': '',\n",
       "   'has_series': False,\n",
       "   'series_url': '',\n",
       "   'publisher': 'No Starch Press',\n",
       "   'publication_year': '2018',\n",
       "   'price': 'US$27.95',\n",
       "   'desktop_short_description': \"This practical, tutorial-style book uses the Kali Linux distribution to teach Linux basics with a focus on how hackers would use them. Topics include Linux command line basics, filesystems, networking, BASH basics, package management, logging, and the Linux kernel and drivers.   If you're getting started along the exciting path of hacking,...\",\n",
       "   'mobile_short_description': 'This practical, tutorial-style book uses the Kali Linux distribution to teach Linux basics with a...',\n",
       "   'is_preorder': False,\n",
       "   'is_available': True,\n",
       "   'preorder_url': '/account/preorder/?bookId=95922373',\n",
       "   'add_to_cart_url': '/cart/add/95922373/',\n",
       "   'currency_symbol': 'US$',\n",
       "   'price_number': 27.95},\n",
       "  {'id': 210124083,\n",
       "   'book_url': '/en-co/book/210124083/comptia-security-sy0-601-exam-cram/martin-m-weiss/',\n",
       "   'image_url': 'https://image.ebooks.com/previews/210/210124/210124083/210124083-sml-1.jpg',\n",
       "   'image_alt_tag': 'CompTIA Security&#x2B; SY0-601 Exam Cram',\n",
       "   'title': 'CompTIA Security+ SY0-601 Exam Cram',\n",
       "   'edition': ' (6th ed.)',\n",
       "   'subtitle': '',\n",
       "   'authors': [{'author_name': 'Martin M. Weiss',\n",
       "     'author_url': '/en-co/author/martin-m.-weiss/94214231/'}],\n",
       "   'num_authors': 1,\n",
       "   'series': ' Series',\n",
       "   'series_number': '',\n",
       "   'has_series': False,\n",
       "   'series_url': '',\n",
       "   'publisher': 'Pearson Education',\n",
       "   'publication_year': '2020',\n",
       "   'price': 'US$35.99',\n",
       "   'desktop_short_description': 'CompTIA® Security+ SY0-601 Exam Cram,  is the perfect study guide to help you pass the newly updated version of the CompTIA Security+ exam. It provides coverage and practice questions for every exam topic. Extensive prep tools include quizzes, Exam Alerts, and our essential last-minute review Cram Sheet. The powerful Pearson Test Prep practice...',\n",
       "   'mobile_short_description': 'CompTIA® Security+ SY0-601 Exam Cram,  is the perfect study guide to help you pass the newly updated...',\n",
       "   'is_preorder': False,\n",
       "   'is_available': True,\n",
       "   'preorder_url': '/account/preorder/?bookId=210124083',\n",
       "   'add_to_cart_url': '/cart/add/210124083/',\n",
       "   'currency_symbol': 'US$',\n",
       "   'price_number': 35.99},\n",
       "  {'id': 210086046,\n",
       "   'book_url': '/en-co/book/210086046/logic-pro-x-10-5-apple-pro-training-series/david-nahmani/',\n",
       "   'image_url': 'https://image.ebooks.com/previews/210/210086/210086046/210086046-sml-1.jpg',\n",
       "   'image_alt_tag': 'Logic Pro X 10.5 - Apple Pro Training Series: Professional Music Production',\n",
       "   'title': 'Logic Pro X 10.5 - Apple Pro Training Series',\n",
       "   'edition': '',\n",
       "   'subtitle': 'Professional Music Production',\n",
       "   'authors': [{'author_name': 'David Nahmani',\n",
       "     'author_url': '/en-co/author/david-nahmani/202181/'}],\n",
       "   'num_authors': 1,\n",
       "   'series': 'Apple Pro Training Series',\n",
       "   'series_number': '',\n",
       "   'has_series': True,\n",
       "   'series_url': 'https://www.ebooks.com/en-co/series/apple-pro-training/',\n",
       "   'publisher': 'Pearson Education',\n",
       "   'publication_year': '2020',\n",
       "   'price': 'US$59.99',\n",
       "   'desktop_short_description': 'Logic Pro X 10.6 Update: Although there has been a 10.6 release since the time that this book was published, the content is still applicable. The changes in 10.6 do not affect the book content.      Record, arrange, mix, produce, and polish your music with this best-selling, Apple-certified guide to Logic Pro X 10.5. Veteran producer and composer...',\n",
       "   'mobile_short_description': 'Logic Pro X 10.6 Update: Although there has been a 10.6 release since the time that this book was...',\n",
       "   'is_preorder': False,\n",
       "   'is_available': True,\n",
       "   'preorder_url': '/account/preorder/?bookId=210086046',\n",
       "   'add_to_cart_url': '/cart/add/210086046/',\n",
       "   'currency_symbol': 'US$',\n",
       "   'price_number': 59.99},\n",
       "  {'id': 138564495,\n",
       "   'book_url': '/en-co/book/138564495/business-analysis/debra-paul/',\n",
       "   'image_url': 'https://image.ebooks.com/previews/138/138564/138564495/138564495-sml-1.jpg',\n",
       "   'image_alt_tag': 'Business Analysis',\n",
       "   'title': 'Business Analysis',\n",
       "   'edition': ' (3rd ed.)',\n",
       "   'subtitle': '',\n",
       "   'authors': [{'author_name': 'Debra Paul',\n",
       "     'author_url': '/en-co/author/debra-paul/206241/'},\n",
       "    {'author_name': 'James Cadle',\n",
       "     'author_url': '/en-co/author/james-cadle/206243/'}],\n",
       "   'num_authors': 10,\n",
       "   'series': ' Series',\n",
       "   'series_number': '',\n",
       "   'has_series': False,\n",
       "   'series_url': '',\n",
       "   'publisher': 'BCS Learning & Development Limited',\n",
       "   'publication_year': '2014',\n",
       "   'price': 'US$51.99',\n",
       "   'desktop_short_description': \"Business analysts must respond to today's challenges by developing practical, creative and financially sound solutions. They need look no further for the necessary tools. This new edition of the bestselling BA guide includes the impact of Agile, an introduction to business architecture and expanded material on gap analysis and benefits management.\",\n",
       "   'mobile_short_description': \"Business analysts must respond to today's challenges by developing practical, creative and...\",\n",
       "   'is_preorder': False,\n",
       "   'is_available': True,\n",
       "   'preorder_url': '/account/preorder/?bookId=138564495',\n",
       "   'add_to_cart_url': '/cart/add/138564495/',\n",
       "   'currency_symbol': 'US$',\n",
       "   'price_number': 51.99},\n",
       "  {'id': 210202687,\n",
       "   'book_url': '/en-co/book/210202687/comptia-security-study-guide/mike-chapple/',\n",
       "   'image_url': 'https://image.ebooks.com/previews/210/210202/210202687/210202687-sml-1.jpg',\n",
       "   'image_alt_tag': 'CompTIA Security&#x2B; Study Guide: Exam SY0-601',\n",
       "   'title': 'CompTIA Security+ Study Guide',\n",
       "   'edition': ' (8th ed.)',\n",
       "   'subtitle': 'Exam SY0-601',\n",
       "   'authors': [{'author_name': 'Mike Chapple',\n",
       "     'author_url': '/en-co/author/mike-chapple/49085/'},\n",
       "    {'author_name': 'David Seidl',\n",
       "     'author_url': '/en-co/author/david-seidl/246896/'}],\n",
       "   'num_authors': 2,\n",
       "   'series': ' Series',\n",
       "   'series_number': '',\n",
       "   'has_series': False,\n",
       "   'series_url': '',\n",
       "   'publisher': 'Wiley',\n",
       "   'publication_year': '2021',\n",
       "   'price': 'US$43.99',\n",
       "   'desktop_short_description': 'Learn the key objectives and most crucial concepts covered by the Security+ Exam SY0-601  \\xa0with this comprehensive and practical study guide! An online test bank offers 650 practice questions and flashcards!    The Eighth Edition of the\\xa0 CompTIA Security+ Study Guide Exam SY0-601 \\xa0efficiently and\\xa0comprehensively prepares you for the SY0-601 Exam....',\n",
       "   'mobile_short_description': 'Learn the key objectives and most crucial concepts covered by the Security+ Exam SY0-601  \\xa0with this...',\n",
       "   'is_preorder': False,\n",
       "   'is_available': True,\n",
       "   'preorder_url': '/account/preorder/?bookId=210202687',\n",
       "   'add_to_cart_url': '/cart/add/210202687/',\n",
       "   'currency_symbol': 'US$',\n",
       "   'price_number': 50.0},\n",
       "  {'id': 209980266,\n",
       "   'book_url': '/en-co/book/209980266/effective-seo-and-content-marketing/nicholas-papagiannis/',\n",
       "   'image_url': 'https://image.ebooks.com/previews/209/209980/209980266/209980266-sml-1.jpg',\n",
       "   'image_alt_tag': 'Effective SEO and Content Marketing: The Ultimate Guide for Maximizing Free Web Traffic',\n",
       "   'title': 'Effective SEO and Content Marketing',\n",
       "   'edition': '',\n",
       "   'subtitle': 'The Ultimate Guide for Maximizing Free Web Traffic',\n",
       "   'authors': [{'author_name': 'Nicholas Papagiannis',\n",
       "     'author_url': '/en-co/author/nicholas-papagiannis/208382552/'}],\n",
       "   'num_authors': 1,\n",
       "   'series': ' Series',\n",
       "   'series_number': '',\n",
       "   'has_series': False,\n",
       "   'series_url': '',\n",
       "   'publisher': 'Wiley',\n",
       "   'publication_year': '2020',\n",
       "   'price': 'US$39.50',\n",
       "   'desktop_short_description': 'Get beyond the basics and see how modern-day users are reimaging the SEO process    SEO is often underutilized and overlooked across the marketing realm today. SEO is not merely trying to improve your website ranking on Google, but it can spark and optimize ideas.\\xa0 Above all it can help improve the amount of free traffic coming to your web...',\n",
       "   'mobile_short_description': 'Get beyond the basics and see how modern-day users are reimaging the SEO process    SEO is often...',\n",
       "   'is_preorder': False,\n",
       "   'is_available': True,\n",
       "   'preorder_url': '/account/preorder/?bookId=209980266',\n",
       "   'add_to_cart_url': '/cart/add/209980266/',\n",
       "   'currency_symbol': 'US$',\n",
       "   'price_number': 45.0},\n",
       "  {'id': 443122,\n",
       "   'book_url': '/en-co/book/443122/dns-and-bind/cricket-liu/',\n",
       "   'image_url': 'https://image.ebooks.com/previews/000/000443/000443122/000443122-sml-1.jpg',\n",
       "   'image_alt_tag': 'DNS and BIND: Help for System Administrators',\n",
       "   'title': 'DNS and BIND',\n",
       "   'edition': ' (5th ed.)',\n",
       "   'subtitle': 'Help for System Administrators',\n",
       "   'authors': [{'author_name': 'Cricket Liu',\n",
       "     'author_url': '/en-co/author/cricket-liu/182771/'},\n",
       "    {'author_name': 'Paul Albitz',\n",
       "     'author_url': '/en-co/author/paul-albitz/182772/'}],\n",
       "   'num_authors': 2,\n",
       "   'series': ' Series',\n",
       "   'series_number': '',\n",
       "   'has_series': False,\n",
       "   'series_url': '',\n",
       "   'publisher': \"O'Reilly Media\",\n",
       "   'publication_year': '2006',\n",
       "   'price': 'US$50.99',\n",
       "   'desktop_short_description': \"DNS and BIND tells you everything you need to work with one of the Internet's fundamental building blocks: the distributed host information database that's responsible for translating names into addresses, routing mail to its proper destination, and even listing phone numbers with the new ENUM standard.  This book brings you up-to-date with the...\",\n",
       "   'mobile_short_description': \"DNS and BIND tells you everything you need to work with one of the Internet's fundamental building...\",\n",
       "   'is_preorder': False,\n",
       "   'is_available': True,\n",
       "   'preorder_url': '/account/preorder/?bookId=443122',\n",
       "   'add_to_cart_url': '/cart/add/443122/',\n",
       "   'currency_symbol': 'US$',\n",
       "   'price_number': 50.99}],\n",
       " 'result_page_range': '1 - 10 of 78559 results'}"
      ]
     },
     "execution_count": 5,
     "metadata": {},
     "output_type": "execute_result"
    }
   ],
   "source": [
    "response.json()"
   ]
  },
  {
   "cell_type": "code",
   "execution_count": 6,
   "metadata": {},
   "outputs": [
    {
     "data": {
      "text/plain": [
       "dict"
      ]
     },
     "execution_count": 6,
     "metadata": {},
     "output_type": "execute_result"
    }
   ],
   "source": [
    "type(response.json())"
   ]
  },
  {
   "cell_type": "markdown",
   "metadata": {},
   "source": [
    "#### Step 5 - Output Keys"
   ]
  },
  {
   "cell_type": "code",
   "execution_count": 8,
   "metadata": {},
   "outputs": [
    {
     "data": {
      "text/plain": [
       "dict_keys(['pages', 'previous_page', 'next_page', 'books', 'result_page_range'])"
      ]
     },
     "execution_count": 8,
     "metadata": {},
     "output_type": "execute_result"
    }
   ],
   "source": [
    "response.json().keys()"
   ]
  },
  {
   "cell_type": "markdown",
   "metadata": {},
   "source": [
    "#### Step 6 - Find your Data"
   ]
  },
  {
   "cell_type": "code",
   "execution_count": null,
   "metadata": {},
   "outputs": [],
   "source": [
    "#title\n",
    "#subtitle\n",
    "#author\n",
    "#publisher\n",
    "#publication date\n",
    "#price"
   ]
  },
  {
   "cell_type": "code",
   "execution_count": 10,
   "metadata": {},
   "outputs": [
    {
     "data": {
      "text/plain": [
       "[{'id': 209755044,\n",
       "  'book_url': '/en-co/book/209755044/dark-data/david-j-hand/',\n",
       "  'image_url': 'https://image.ebooks.com/previews/209/209755/209755044/209755044-sml-1.jpg',\n",
       "  'image_alt_tag': 'Dark Data: Why What You Don&#x2019;t Know Matters',\n",
       "  'title': 'Dark Data',\n",
       "  'edition': '',\n",
       "  'subtitle': 'Why What You Don’t Know Matters',\n",
       "  'authors': [{'author_name': 'David J. Hand',\n",
       "    'author_url': '/en-co/author/david-j.-hand/165723/'}],\n",
       "  'num_authors': 1,\n",
       "  'series': ' Series',\n",
       "  'series_number': '',\n",
       "  'has_series': False,\n",
       "  'series_url': '',\n",
       "  'publisher': 'Princeton University Press',\n",
       "  'publication_year': '2020',\n",
       "  'price': 'US$27.25',\n",
       "  'desktop_short_description': 'A practical guide to making good decisions in a world of missing data   In the era of big data, it is easy to imagine that we have all the information we need to make good decisions. But in fact the data we have are never complete, and may be only the tip of the iceberg. Just as much of the universe is composed of dark matter, invisible to us but...',\n",
       "  'mobile_short_description': 'A practical guide to making good decisions in a world of missing data   In the era of big data, it...',\n",
       "  'is_preorder': False,\n",
       "  'is_available': True,\n",
       "  'preorder_url': '/account/preorder/?bookId=209755044',\n",
       "  'add_to_cart_url': '/cart/add/209755044/',\n",
       "  'currency_symbol': 'US$',\n",
       "  'price_number': 29.95},\n",
       " {'id': 817871,\n",
       "  'book_url': '/en-co/book/817871/html-and-css/jon-duckett/',\n",
       "  'image_url': 'https://image.ebooks.com/previews/000/000817/000817871/000817871-sml-1.jpg',\n",
       "  'image_alt_tag': 'HTML and CSS: Design and Build Websites',\n",
       "  'title': 'HTML and CSS',\n",
       "  'edition': '',\n",
       "  'subtitle': 'Design and Build Websites',\n",
       "  'authors': [{'author_name': 'Jon Duckett',\n",
       "    'author_url': '/en-co/author/jon-duckett/50444/'}],\n",
       "  'num_authors': 1,\n",
       "  'series': ' Series',\n",
       "  'series_number': '',\n",
       "  'has_series': False,\n",
       "  'series_url': '',\n",
       "  'publisher': 'Wiley',\n",
       "  'publication_year': '2011',\n",
       "  'price': 'US$26.50',\n",
       "  'desktop_short_description': 'A full-color introduction to the basics of HTML and CSS!   Every day, more and more people want to learn some HTML and CSS. Joining the professional web designers and programmers are new audiences who need to know a little bit of code at work (update a content management system or e-commerce store) and those who want to make their personal blogs...',\n",
       "  'mobile_short_description': 'A full-color introduction to the basics of HTML and CSS!   Every day, more and more people want to...',\n",
       "  'is_preorder': False,\n",
       "  'is_available': True,\n",
       "  'preorder_url': '/account/preorder/?bookId=817871',\n",
       "  'add_to_cart_url': '/cart/add/817871/',\n",
       "  'currency_symbol': 'US$',\n",
       "  'price_number': 29.99},\n",
       " {'id': 589081,\n",
       "  'book_url': '/en-co/book/589081/the-dragonfly-effect/jennifer-aaker/',\n",
       "  'image_url': 'https://image.ebooks.com/previews/000/000589/000589081/000589081-sml-1.jpg',\n",
       "  'image_alt_tag': 'The Dragonfly Effect: Quick, Effective, and Powerful Ways To Use Social Media to Drive Social Change',\n",
       "  'title': 'The Dragonfly Effect',\n",
       "  'edition': '',\n",
       "  'subtitle': 'Quick, Effective, and Powerful Ways To Use Social Media to Drive Social Change',\n",
       "  'authors': [{'author_name': 'Jennifer Aaker',\n",
       "    'author_url': '/en-co/author/jennifer-aaker/264487/'},\n",
       "   {'author_name': 'Andy Smith',\n",
       "    'author_url': '/en-co/author/andy-smith/36949/'}],\n",
       "  'num_authors': 5,\n",
       "  'series': ' Series',\n",
       "  'series_number': '',\n",
       "  'has_series': False,\n",
       "  'series_url': '',\n",
       "  'publisher': 'Wiley',\n",
       "  'publication_year': '2010',\n",
       "  'price': 'US$22.99',\n",
       "  'desktop_short_description': 'Proven strategies for harnessing the power of social media to drive social change   Many books teach the mechanics of using Facebook, Twitter, and YouTube to compete in business. But no book addresses how to harness the incredible power of social media to make a difference.  The Dragonfly Effect  shows you how to tap social media and consumer...',\n",
       "  'mobile_short_description': 'Proven strategies for harnessing the power of social media to drive social change   Many books teach...',\n",
       "  'is_preorder': False,\n",
       "  'is_available': True,\n",
       "  'preorder_url': '/account/preorder/?bookId=589081',\n",
       "  'add_to_cart_url': '/cart/add/589081/',\n",
       "  'currency_symbol': 'US$',\n",
       "  'price_number': 25.95},\n",
       " {'id': 95922373,\n",
       "  'book_url': '/en-co/book/95922373/linux-basics-for-hackers/occupytheweb/',\n",
       "  'image_url': 'https://image.ebooks.com/previews/095/095922/095922373/095922373-sml-1.jpg',\n",
       "  'image_alt_tag': 'Linux Basics for Hackers: Getting Started with Networking, Scripting, and Security in Kali',\n",
       "  'title': 'Linux Basics for Hackers',\n",
       "  'edition': '',\n",
       "  'subtitle': 'Getting Started with Networking, Scripting, and Security in Kali',\n",
       "  'authors': [{'author_name': 'OccupyTheWeb',\n",
       "    'author_url': '/en-co/author/occupytheweb/94218147/'}],\n",
       "  'num_authors': 1,\n",
       "  'series': ' Series',\n",
       "  'series_number': '',\n",
       "  'has_series': False,\n",
       "  'series_url': '',\n",
       "  'publisher': 'No Starch Press',\n",
       "  'publication_year': '2018',\n",
       "  'price': 'US$27.95',\n",
       "  'desktop_short_description': \"This practical, tutorial-style book uses the Kali Linux distribution to teach Linux basics with a focus on how hackers would use them. Topics include Linux command line basics, filesystems, networking, BASH basics, package management, logging, and the Linux kernel and drivers.   If you're getting started along the exciting path of hacking,...\",\n",
       "  'mobile_short_description': 'This practical, tutorial-style book uses the Kali Linux distribution to teach Linux basics with a...',\n",
       "  'is_preorder': False,\n",
       "  'is_available': True,\n",
       "  'preorder_url': '/account/preorder/?bookId=95922373',\n",
       "  'add_to_cart_url': '/cart/add/95922373/',\n",
       "  'currency_symbol': 'US$',\n",
       "  'price_number': 27.95},\n",
       " {'id': 210124083,\n",
       "  'book_url': '/en-co/book/210124083/comptia-security-sy0-601-exam-cram/martin-m-weiss/',\n",
       "  'image_url': 'https://image.ebooks.com/previews/210/210124/210124083/210124083-sml-1.jpg',\n",
       "  'image_alt_tag': 'CompTIA Security&#x2B; SY0-601 Exam Cram',\n",
       "  'title': 'CompTIA Security+ SY0-601 Exam Cram',\n",
       "  'edition': ' (6th ed.)',\n",
       "  'subtitle': '',\n",
       "  'authors': [{'author_name': 'Martin M. Weiss',\n",
       "    'author_url': '/en-co/author/martin-m.-weiss/94214231/'}],\n",
       "  'num_authors': 1,\n",
       "  'series': ' Series',\n",
       "  'series_number': '',\n",
       "  'has_series': False,\n",
       "  'series_url': '',\n",
       "  'publisher': 'Pearson Education',\n",
       "  'publication_year': '2020',\n",
       "  'price': 'US$35.99',\n",
       "  'desktop_short_description': 'CompTIA® Security+ SY0-601 Exam Cram,  is the perfect study guide to help you pass the newly updated version of the CompTIA Security+ exam. It provides coverage and practice questions for every exam topic. Extensive prep tools include quizzes, Exam Alerts, and our essential last-minute review Cram Sheet. The powerful Pearson Test Prep practice...',\n",
       "  'mobile_short_description': 'CompTIA® Security+ SY0-601 Exam Cram,  is the perfect study guide to help you pass the newly updated...',\n",
       "  'is_preorder': False,\n",
       "  'is_available': True,\n",
       "  'preorder_url': '/account/preorder/?bookId=210124083',\n",
       "  'add_to_cart_url': '/cart/add/210124083/',\n",
       "  'currency_symbol': 'US$',\n",
       "  'price_number': 35.99},\n",
       " {'id': 210086046,\n",
       "  'book_url': '/en-co/book/210086046/logic-pro-x-10-5-apple-pro-training-series/david-nahmani/',\n",
       "  'image_url': 'https://image.ebooks.com/previews/210/210086/210086046/210086046-sml-1.jpg',\n",
       "  'image_alt_tag': 'Logic Pro X 10.5 - Apple Pro Training Series: Professional Music Production',\n",
       "  'title': 'Logic Pro X 10.5 - Apple Pro Training Series',\n",
       "  'edition': '',\n",
       "  'subtitle': 'Professional Music Production',\n",
       "  'authors': [{'author_name': 'David Nahmani',\n",
       "    'author_url': '/en-co/author/david-nahmani/202181/'}],\n",
       "  'num_authors': 1,\n",
       "  'series': 'Apple Pro Training Series',\n",
       "  'series_number': '',\n",
       "  'has_series': True,\n",
       "  'series_url': 'https://www.ebooks.com/en-co/series/apple-pro-training/',\n",
       "  'publisher': 'Pearson Education',\n",
       "  'publication_year': '2020',\n",
       "  'price': 'US$59.99',\n",
       "  'desktop_short_description': 'Logic Pro X 10.6 Update: Although there has been a 10.6 release since the time that this book was published, the content is still applicable. The changes in 10.6 do not affect the book content.      Record, arrange, mix, produce, and polish your music with this best-selling, Apple-certified guide to Logic Pro X 10.5. Veteran producer and composer...',\n",
       "  'mobile_short_description': 'Logic Pro X 10.6 Update: Although there has been a 10.6 release since the time that this book was...',\n",
       "  'is_preorder': False,\n",
       "  'is_available': True,\n",
       "  'preorder_url': '/account/preorder/?bookId=210086046',\n",
       "  'add_to_cart_url': '/cart/add/210086046/',\n",
       "  'currency_symbol': 'US$',\n",
       "  'price_number': 59.99},\n",
       " {'id': 138564495,\n",
       "  'book_url': '/en-co/book/138564495/business-analysis/debra-paul/',\n",
       "  'image_url': 'https://image.ebooks.com/previews/138/138564/138564495/138564495-sml-1.jpg',\n",
       "  'image_alt_tag': 'Business Analysis',\n",
       "  'title': 'Business Analysis',\n",
       "  'edition': ' (3rd ed.)',\n",
       "  'subtitle': '',\n",
       "  'authors': [{'author_name': 'Debra Paul',\n",
       "    'author_url': '/en-co/author/debra-paul/206241/'},\n",
       "   {'author_name': 'James Cadle',\n",
       "    'author_url': '/en-co/author/james-cadle/206243/'}],\n",
       "  'num_authors': 10,\n",
       "  'series': ' Series',\n",
       "  'series_number': '',\n",
       "  'has_series': False,\n",
       "  'series_url': '',\n",
       "  'publisher': 'BCS Learning & Development Limited',\n",
       "  'publication_year': '2014',\n",
       "  'price': 'US$51.99',\n",
       "  'desktop_short_description': \"Business analysts must respond to today's challenges by developing practical, creative and financially sound solutions. They need look no further for the necessary tools. This new edition of the bestselling BA guide includes the impact of Agile, an introduction to business architecture and expanded material on gap analysis and benefits management.\",\n",
       "  'mobile_short_description': \"Business analysts must respond to today's challenges by developing practical, creative and...\",\n",
       "  'is_preorder': False,\n",
       "  'is_available': True,\n",
       "  'preorder_url': '/account/preorder/?bookId=138564495',\n",
       "  'add_to_cart_url': '/cart/add/138564495/',\n",
       "  'currency_symbol': 'US$',\n",
       "  'price_number': 51.99},\n",
       " {'id': 210202687,\n",
       "  'book_url': '/en-co/book/210202687/comptia-security-study-guide/mike-chapple/',\n",
       "  'image_url': 'https://image.ebooks.com/previews/210/210202/210202687/210202687-sml-1.jpg',\n",
       "  'image_alt_tag': 'CompTIA Security&#x2B; Study Guide: Exam SY0-601',\n",
       "  'title': 'CompTIA Security+ Study Guide',\n",
       "  'edition': ' (8th ed.)',\n",
       "  'subtitle': 'Exam SY0-601',\n",
       "  'authors': [{'author_name': 'Mike Chapple',\n",
       "    'author_url': '/en-co/author/mike-chapple/49085/'},\n",
       "   {'author_name': 'David Seidl',\n",
       "    'author_url': '/en-co/author/david-seidl/246896/'}],\n",
       "  'num_authors': 2,\n",
       "  'series': ' Series',\n",
       "  'series_number': '',\n",
       "  'has_series': False,\n",
       "  'series_url': '',\n",
       "  'publisher': 'Wiley',\n",
       "  'publication_year': '2021',\n",
       "  'price': 'US$43.99',\n",
       "  'desktop_short_description': 'Learn the key objectives and most crucial concepts covered by the Security+ Exam SY0-601  \\xa0with this comprehensive and practical study guide! An online test bank offers 650 practice questions and flashcards!    The Eighth Edition of the\\xa0 CompTIA Security+ Study Guide Exam SY0-601 \\xa0efficiently and\\xa0comprehensively prepares you for the SY0-601 Exam....',\n",
       "  'mobile_short_description': 'Learn the key objectives and most crucial concepts covered by the Security+ Exam SY0-601  \\xa0with this...',\n",
       "  'is_preorder': False,\n",
       "  'is_available': True,\n",
       "  'preorder_url': '/account/preorder/?bookId=210202687',\n",
       "  'add_to_cart_url': '/cart/add/210202687/',\n",
       "  'currency_symbol': 'US$',\n",
       "  'price_number': 50.0},\n",
       " {'id': 209980266,\n",
       "  'book_url': '/en-co/book/209980266/effective-seo-and-content-marketing/nicholas-papagiannis/',\n",
       "  'image_url': 'https://image.ebooks.com/previews/209/209980/209980266/209980266-sml-1.jpg',\n",
       "  'image_alt_tag': 'Effective SEO and Content Marketing: The Ultimate Guide for Maximizing Free Web Traffic',\n",
       "  'title': 'Effective SEO and Content Marketing',\n",
       "  'edition': '',\n",
       "  'subtitle': 'The Ultimate Guide for Maximizing Free Web Traffic',\n",
       "  'authors': [{'author_name': 'Nicholas Papagiannis',\n",
       "    'author_url': '/en-co/author/nicholas-papagiannis/208382552/'}],\n",
       "  'num_authors': 1,\n",
       "  'series': ' Series',\n",
       "  'series_number': '',\n",
       "  'has_series': False,\n",
       "  'series_url': '',\n",
       "  'publisher': 'Wiley',\n",
       "  'publication_year': '2020',\n",
       "  'price': 'US$39.50',\n",
       "  'desktop_short_description': 'Get beyond the basics and see how modern-day users are reimaging the SEO process    SEO is often underutilized and overlooked across the marketing realm today. SEO is not merely trying to improve your website ranking on Google, but it can spark and optimize ideas.\\xa0 Above all it can help improve the amount of free traffic coming to your web...',\n",
       "  'mobile_short_description': 'Get beyond the basics and see how modern-day users are reimaging the SEO process    SEO is often...',\n",
       "  'is_preorder': False,\n",
       "  'is_available': True,\n",
       "  'preorder_url': '/account/preorder/?bookId=209980266',\n",
       "  'add_to_cart_url': '/cart/add/209980266/',\n",
       "  'currency_symbol': 'US$',\n",
       "  'price_number': 45.0},\n",
       " {'id': 443122,\n",
       "  'book_url': '/en-co/book/443122/dns-and-bind/cricket-liu/',\n",
       "  'image_url': 'https://image.ebooks.com/previews/000/000443/000443122/000443122-sml-1.jpg',\n",
       "  'image_alt_tag': 'DNS and BIND: Help for System Administrators',\n",
       "  'title': 'DNS and BIND',\n",
       "  'edition': ' (5th ed.)',\n",
       "  'subtitle': 'Help for System Administrators',\n",
       "  'authors': [{'author_name': 'Cricket Liu',\n",
       "    'author_url': '/en-co/author/cricket-liu/182771/'},\n",
       "   {'author_name': 'Paul Albitz',\n",
       "    'author_url': '/en-co/author/paul-albitz/182772/'}],\n",
       "  'num_authors': 2,\n",
       "  'series': ' Series',\n",
       "  'series_number': '',\n",
       "  'has_series': False,\n",
       "  'series_url': '',\n",
       "  'publisher': \"O'Reilly Media\",\n",
       "  'publication_year': '2006',\n",
       "  'price': 'US$50.99',\n",
       "  'desktop_short_description': \"DNS and BIND tells you everything you need to work with one of the Internet's fundamental building blocks: the distributed host information database that's responsible for translating names into addresses, routing mail to its proper destination, and even listing phone numbers with the new ENUM standard.  This book brings you up-to-date with the...\",\n",
       "  'mobile_short_description': \"DNS and BIND tells you everything you need to work with one of the Internet's fundamental building...\",\n",
       "  'is_preorder': False,\n",
       "  'is_available': True,\n",
       "  'preorder_url': '/account/preorder/?bookId=443122',\n",
       "  'add_to_cart_url': '/cart/add/443122/',\n",
       "  'currency_symbol': 'US$',\n",
       "  'price_number': 50.99}]"
      ]
     },
     "execution_count": 10,
     "metadata": {},
     "output_type": "execute_result"
    }
   ],
   "source": [
    "response.json()['books']"
   ]
  },
  {
   "cell_type": "code",
   "execution_count": 11,
   "metadata": {},
   "outputs": [
    {
     "data": {
      "text/plain": [
       "10"
      ]
     },
     "execution_count": 11,
     "metadata": {},
     "output_type": "execute_result"
    }
   ],
   "source": [
    "len(response.json()['books'])"
   ]
  },
  {
   "cell_type": "code",
   "execution_count": 12,
   "metadata": {},
   "outputs": [],
   "source": [
    "results_json=response.json()['books']"
   ]
  },
  {
   "cell_type": "code",
   "execution_count": 13,
   "metadata": {},
   "outputs": [
    {
     "data": {
      "text/plain": [
       "'Dark Data'"
      ]
     },
     "execution_count": 13,
     "metadata": {},
     "output_type": "execute_result"
    }
   ],
   "source": [
    "#title\n",
    "results_json[0]['title']"
   ]
  },
  {
   "cell_type": "code",
   "execution_count": 14,
   "metadata": {},
   "outputs": [
    {
     "data": {
      "text/plain": [
       "'Why What You Don’t Know Matters'"
      ]
     },
     "execution_count": 14,
     "metadata": {},
     "output_type": "execute_result"
    }
   ],
   "source": [
    "#subtitle\n",
    "results_json[0]['subtitle']"
   ]
  },
  {
   "cell_type": "code",
   "execution_count": 21,
   "metadata": {},
   "outputs": [
    {
     "data": {
      "text/plain": [
       "'David J. Hand'"
      ]
     },
     "execution_count": 21,
     "metadata": {},
     "output_type": "execute_result"
    }
   ],
   "source": [
    "#author\n",
    "results_json[0]['authors'][0]['author_name']"
   ]
  },
  {
   "cell_type": "code",
   "execution_count": 22,
   "metadata": {},
   "outputs": [
    {
     "data": {
      "text/plain": [
       "'Princeton University Press'"
      ]
     },
     "execution_count": 22,
     "metadata": {},
     "output_type": "execute_result"
    }
   ],
   "source": [
    "#publisher\n",
    "results_json[0]['publisher']"
   ]
  },
  {
   "cell_type": "code",
   "execution_count": 23,
   "metadata": {},
   "outputs": [
    {
     "data": {
      "text/plain": [
       "'2020'"
      ]
     },
     "execution_count": 23,
     "metadata": {},
     "output_type": "execute_result"
    }
   ],
   "source": [
    "#publication date\n",
    "results_json[0]['publication_year']\n"
   ]
  },
  {
   "cell_type": "code",
   "execution_count": 24,
   "metadata": {},
   "outputs": [
    {
     "data": {
      "text/plain": [
       "'US$27.25'"
      ]
     },
     "execution_count": 24,
     "metadata": {},
     "output_type": "execute_result"
    }
   ],
   "source": [
    "#price\n",
    "results_json[0]['price']\n"
   ]
  },
  {
   "cell_type": "markdown",
   "metadata": {},
   "source": [
    "#### Step 7 - Put everything together - Loop through results and append data inside a list"
   ]
  },
  {
   "cell_type": "code",
   "execution_count": 39,
   "metadata": {},
   "outputs": [],
   "source": [
    "title=[]\n",
    "subtitle=[]\n",
    "author=[]\n",
    "publisher=[]\n",
    "publication_year=[]\n",
    "price=[]\n",
    "for result in results_json:\n",
    "    #title\n",
    "    title.append(result['title'])\n",
    "    #subtitle\n",
    "    subtitle.append(result['subtitle'])\n",
    "    #author\n",
    "    author.append(result['authors'][0]['author_name'])\n",
    "    #publisher\n",
    "    publisher.append(result['publisher'])\n",
    "    #publication\n",
    "    publication_year.append(result['publication_year'])\n",
    "    #price\n",
    "    price.append(result['price'])\n",
    "    "
   ]
  },
  {
   "cell_type": "code",
   "execution_count": 41,
   "metadata": {},
   "outputs": [
    {
     "data": {
      "text/plain": [
       "['David J. Hand',\n",
       " 'Jon Duckett',\n",
       " 'Jennifer Aaker',\n",
       " 'OccupyTheWeb',\n",
       " 'Martin M. Weiss',\n",
       " 'David Nahmani',\n",
       " 'Debra Paul',\n",
       " 'Mike Chapple',\n",
       " 'Nicholas Papagiannis',\n",
       " 'Cricket Liu']"
      ]
     },
     "execution_count": 41,
     "metadata": {},
     "output_type": "execute_result"
    }
   ],
   "source": [
    "author"
   ]
  },
  {
   "cell_type": "markdown",
   "metadata": {},
   "source": [
    "#### Step 8 - Pandas Dataframe"
   ]
  },
  {
   "cell_type": "code",
   "execution_count": 43,
   "metadata": {},
   "outputs": [],
   "source": [
    "books_df=pd.DataFrame({'Title':title,'Subtitle':subtitle,'Author':author,'Publisher':publisher,'Publication year':publication_year,'Price':price})"
   ]
  },
  {
   "cell_type": "code",
   "execution_count": 44,
   "metadata": {},
   "outputs": [
    {
     "data": {
      "text/html": [
       "<div>\n",
       "<style scoped>\n",
       "    .dataframe tbody tr th:only-of-type {\n",
       "        vertical-align: middle;\n",
       "    }\n",
       "\n",
       "    .dataframe tbody tr th {\n",
       "        vertical-align: top;\n",
       "    }\n",
       "\n",
       "    .dataframe thead th {\n",
       "        text-align: right;\n",
       "    }\n",
       "</style>\n",
       "<table border=\"1\" class=\"dataframe\">\n",
       "  <thead>\n",
       "    <tr style=\"text-align: right;\">\n",
       "      <th></th>\n",
       "      <th>Title</th>\n",
       "      <th>Subtitle</th>\n",
       "      <th>Author</th>\n",
       "      <th>Publisher</th>\n",
       "      <th>Publication year</th>\n",
       "      <th>Price</th>\n",
       "    </tr>\n",
       "  </thead>\n",
       "  <tbody>\n",
       "    <tr>\n",
       "      <th>0</th>\n",
       "      <td>Dark Data</td>\n",
       "      <td>Why What You Don’t Know Matters</td>\n",
       "      <td>David J. Hand</td>\n",
       "      <td>Princeton University Press</td>\n",
       "      <td>2020</td>\n",
       "      <td>US$27.25</td>\n",
       "    </tr>\n",
       "    <tr>\n",
       "      <th>1</th>\n",
       "      <td>HTML and CSS</td>\n",
       "      <td>Design and Build Websites</td>\n",
       "      <td>Jon Duckett</td>\n",
       "      <td>Wiley</td>\n",
       "      <td>2011</td>\n",
       "      <td>US$26.50</td>\n",
       "    </tr>\n",
       "    <tr>\n",
       "      <th>2</th>\n",
       "      <td>The Dragonfly Effect</td>\n",
       "      <td>Quick, Effective, and Powerful Ways To Use Soc...</td>\n",
       "      <td>Jennifer Aaker</td>\n",
       "      <td>Wiley</td>\n",
       "      <td>2010</td>\n",
       "      <td>US$22.99</td>\n",
       "    </tr>\n",
       "    <tr>\n",
       "      <th>3</th>\n",
       "      <td>Linux Basics for Hackers</td>\n",
       "      <td>Getting Started with Networking, Scripting, an...</td>\n",
       "      <td>OccupyTheWeb</td>\n",
       "      <td>No Starch Press</td>\n",
       "      <td>2018</td>\n",
       "      <td>US$27.95</td>\n",
       "    </tr>\n",
       "    <tr>\n",
       "      <th>4</th>\n",
       "      <td>CompTIA Security+ SY0-601 Exam Cram</td>\n",
       "      <td></td>\n",
       "      <td>Martin M. Weiss</td>\n",
       "      <td>Pearson Education</td>\n",
       "      <td>2020</td>\n",
       "      <td>US$35.99</td>\n",
       "    </tr>\n",
       "    <tr>\n",
       "      <th>5</th>\n",
       "      <td>Logic Pro X 10.5 - Apple Pro Training Series</td>\n",
       "      <td>Professional Music Production</td>\n",
       "      <td>David Nahmani</td>\n",
       "      <td>Pearson Education</td>\n",
       "      <td>2020</td>\n",
       "      <td>US$59.99</td>\n",
       "    </tr>\n",
       "    <tr>\n",
       "      <th>6</th>\n",
       "      <td>Business Analysis</td>\n",
       "      <td></td>\n",
       "      <td>Debra Paul</td>\n",
       "      <td>BCS Learning &amp; Development Limited</td>\n",
       "      <td>2014</td>\n",
       "      <td>US$51.99</td>\n",
       "    </tr>\n",
       "    <tr>\n",
       "      <th>7</th>\n",
       "      <td>CompTIA Security+ Study Guide</td>\n",
       "      <td>Exam SY0-601</td>\n",
       "      <td>Mike Chapple</td>\n",
       "      <td>Wiley</td>\n",
       "      <td>2021</td>\n",
       "      <td>US$43.99</td>\n",
       "    </tr>\n",
       "    <tr>\n",
       "      <th>8</th>\n",
       "      <td>Effective SEO and Content Marketing</td>\n",
       "      <td>The Ultimate Guide for Maximizing Free Web Tra...</td>\n",
       "      <td>Nicholas Papagiannis</td>\n",
       "      <td>Wiley</td>\n",
       "      <td>2020</td>\n",
       "      <td>US$39.50</td>\n",
       "    </tr>\n",
       "    <tr>\n",
       "      <th>9</th>\n",
       "      <td>DNS and BIND</td>\n",
       "      <td>Help for System Administrators</td>\n",
       "      <td>Cricket Liu</td>\n",
       "      <td>O'Reilly Media</td>\n",
       "      <td>2006</td>\n",
       "      <td>US$50.99</td>\n",
       "    </tr>\n",
       "  </tbody>\n",
       "</table>\n",
       "</div>"
      ],
      "text/plain": [
       "                                          Title  \\\n",
       "0                                     Dark Data   \n",
       "1                                  HTML and CSS   \n",
       "2                          The Dragonfly Effect   \n",
       "3                      Linux Basics for Hackers   \n",
       "4           CompTIA Security+ SY0-601 Exam Cram   \n",
       "5  Logic Pro X 10.5 - Apple Pro Training Series   \n",
       "6                             Business Analysis   \n",
       "7                 CompTIA Security+ Study Guide   \n",
       "8           Effective SEO and Content Marketing   \n",
       "9                                  DNS and BIND   \n",
       "\n",
       "                                            Subtitle                Author  \\\n",
       "0                    Why What You Don’t Know Matters         David J. Hand   \n",
       "1                          Design and Build Websites           Jon Duckett   \n",
       "2  Quick, Effective, and Powerful Ways To Use Soc...        Jennifer Aaker   \n",
       "3  Getting Started with Networking, Scripting, an...          OccupyTheWeb   \n",
       "4                                                          Martin M. Weiss   \n",
       "5                      Professional Music Production         David Nahmani   \n",
       "6                                                               Debra Paul   \n",
       "7                                       Exam SY0-601          Mike Chapple   \n",
       "8  The Ultimate Guide for Maximizing Free Web Tra...  Nicholas Papagiannis   \n",
       "9                     Help for System Administrators           Cricket Liu   \n",
       "\n",
       "                            Publisher Publication year     Price  \n",
       "0          Princeton University Press             2020  US$27.25  \n",
       "1                               Wiley             2011  US$26.50  \n",
       "2                               Wiley             2010  US$22.99  \n",
       "3                     No Starch Press             2018  US$27.95  \n",
       "4                   Pearson Education             2020  US$35.99  \n",
       "5                   Pearson Education             2020  US$59.99  \n",
       "6  BCS Learning & Development Limited             2014  US$51.99  \n",
       "7                               Wiley             2021  US$43.99  \n",
       "8                               Wiley             2020  US$39.50  \n",
       "9                      O'Reilly Media             2006  US$50.99  "
      ]
     },
     "execution_count": 44,
     "metadata": {},
     "output_type": "execute_result"
    }
   ],
   "source": [
    "books_df"
   ]
  },
  {
   "cell_type": "markdown",
   "metadata": {},
   "source": [
    "#### Step 9 - Store results in Excel"
   ]
  },
  {
   "cell_type": "code",
   "execution_count": 45,
   "metadata": {},
   "outputs": [],
   "source": [
    "books_df.to_excel('books.xlsx', index=False)"
   ]
  }
 ],
 "metadata": {
  "kernelspec": {
   "display_name": "Python 3",
   "language": "python",
   "name": "python3"
  },
  "language_info": {
   "codemirror_mode": {
    "name": "ipython",
    "version": 3
   },
   "file_extension": ".py",
   "mimetype": "text/x-python",
   "name": "python",
   "nbconvert_exporter": "python",
   "pygments_lexer": "ipython3",
   "version": "3.8.8"
  }
 },
 "nbformat": 4,
 "nbformat_minor": 4
}
